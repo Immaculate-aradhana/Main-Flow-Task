{
 "cells": [
  {
   "cell_type": "code",
   "execution_count": 1,
   "id": "48311266-9808-4d3c-a318-0adcf66423f3",
   "metadata": {},
   "outputs": [
    {
     "name": "stdout",
     "output_type": "stream",
     "text": [
      "upadeted list: [10, 2, 3, 4, 6, 7]\n"
     ]
    }
   ],
   "source": [
    "#list\n",
    "#create list\n",
    "my_list=[1,2,3,4,5,6]\n",
    "\n",
    "#adding an element\n",
    "my_list.append(7)\n",
    "\n",
    "#removing an element\n",
    "my_list.remove(5)\n",
    "\n",
    "#modifying the list\n",
    "my_list[0]=10\n",
    "\n",
    "print(\"upadeted list:\",my_list)"
   ]
  },
  {
   "cell_type": "code",
   "execution_count": 2,
   "id": "c66c7ec0-519c-4d40-aa83-1c2631dfc706",
   "metadata": {},
   "outputs": [
    {
     "name": "stdout",
     "output_type": "stream",
     "text": [
      "upadated dictionary: {'name': 'jungkook', 'city': 'Bangalore', 'gender': 'male'}\n"
     ]
    }
   ],
   "source": [
    "#dictionary\n",
    "#create dictionary\n",
    "my_dict={'name':'jungkook','age':'27','city':'goa'}\n",
    "\n",
    "#adding an element\n",
    "my_dict['gender']='male'\n",
    "\n",
    "#removing an element\n",
    "del my_dict['age']\n",
    "\n",
    "#modifying the dictionary\n",
    "my_dict['city']='Bangalore'\n",
    "\n",
    "print('upadated dictionary:',my_dict)"
   ]
  },
  {
   "cell_type": "code",
   "execution_count": 3,
   "id": "4591ee77-b41c-4988-90fa-69c737c623f0",
   "metadata": {},
   "outputs": [
    {
     "name": "stdout",
     "output_type": "stream",
     "text": [
      "upadated set: {1, 4, 5, 6, 7, 10}\n"
     ]
    }
   ],
   "source": [
    "#set\n",
    "#create a set\n",
    "my_set={1,2,3,4,5,6}\n",
    "\n",
    "#add an element\n",
    "my_set.add(7)\n",
    "\n",
    "#remove an element\n",
    "my_set.remove(3)\n",
    "\n",
    "#modifying the set\n",
    "my_set.discard(2)\n",
    "my_set.add(10)\n",
    "\n",
    "print('upadated set:',my_set)"
   ]
  },
  {
   "cell_type": "code",
   "execution_count": null,
   "id": "d3ac6d87-f4a8-4a5c-a86a-212f2f3f453a",
   "metadata": {},
   "outputs": [],
   "source": []
  }
 ],
 "metadata": {
  "kernelspec": {
   "display_name": "Python 3 (ipykernel)",
   "language": "python",
   "name": "python3"
  },
  "language_info": {
   "codemirror_mode": {
    "name": "ipython",
    "version": 3
   },
   "file_extension": ".py",
   "mimetype": "text/x-python",
   "name": "python",
   "nbconvert_exporter": "python",
   "pygments_lexer": "ipython3",
   "version": "3.12.3"
  }
 },
 "nbformat": 4,
 "nbformat_minor": 5
}
